{
 "cells": [
  {
   "cell_type": "markdown",
   "id": "52b95c2a",
   "metadata": {},
   "source": [
    "# Import libraries and configuration"
   ]
  },
  {
   "cell_type": "code",
   "execution_count": 24,
   "id": "4f496432",
   "metadata": {},
   "outputs": [],
   "source": [
    "import pandas as pd\n",
    "import numpy as np\n",
    "from matplotlib import pyplot as plt\n",
    "plt.style.use('bmh')\n",
    "from scipy.stats import linregress, t\n",
    "\n",
    "filename = \"yourfilenamehere.csv\"\n",
    "save_output = False"
   ]
  },
  {
   "cell_type": "markdown",
   "id": "9cac7016",
   "metadata": {},
   "source": [
    "# Calibration Settings"
   ]
  },
  {
   "cell_type": "code",
   "execution_count": 25,
   "id": "b8146826",
   "metadata": {},
   "outputs": [],
   "source": [
    "# Settings\n",
    "# Keep only the last n-injections\n",
    "injections_to_keep = -3\n",
    "\n",
    "# Insert here the standards (STD) you want to use to compute\n",
    "# the calibration curve. At least two.\n",
    "standards = ['std_name_1', 'std_name_2']\n",
    "\n",
    "# Insert here the control standard name (SPY), if any\n",
    "spy = ['spy_name']\n",
    "\n",
    "# Column of interest for isotopic values (don't change)\n",
    "d17O_column = 'd(17_16)Mean'\n",
    "d18O_column = 'd(18_16)Mean'\n",
    "dD_column = 'd(D_H)Mean'\n",
    "E17_column = 'E17_Mean'\n",
    "\n",
    "# TO REMOVE\n",
    "STD_1 = 'LSCE'\n",
    "STD_2 = 'DCS'\n",
    "SPY   = 'VDC'\n",
    "\n"
   ]
  },
  {
   "cell_type": "markdown",
   "id": "b7320079",
   "metadata": {},
   "source": [
    "# Standard values"
   ]
  },
  {
   "cell_type": "code",
   "execution_count": null,
   "id": "edee6ebf",
   "metadata": {},
   "outputs": [],
   "source": [
    "# Standard values\n",
    "from standards_values import standard_d17O\n",
    "from standards_values import standard_d18O\n",
    "from standards_values import standard_dD\n",
    "print(standard_d17O)\n",
    "print(standard_d18O)\n",
    "print(standard_dD)"
   ]
  },
  {
   "cell_type": "markdown",
   "id": "5b38bef7",
   "metadata": {},
   "source": [
    "# Import data and first check"
   ]
  },
  {
   "cell_type": "code",
   "execution_count": null,
   "id": "f050f9fa",
   "metadata": {},
   "outputs": [],
   "source": [
    "df = pd.read_csv(filename, skipinitialspace=True)\n",
    "#df.columns\n",
    "mask = (df['Identifier 2'] == 'STD')\n",
    "std_in_df = df[mask]['Identifier 1'].unique()\n",
    "\n",
    "print(\"Check for standards:\")\n",
    "for std in standards:\n",
    "    print(f\"{std} in {filename}: {std in std_in_df}\")\n",
    "    \n",
    "print(\"\")\n",
    "mask = (df['Identifier 2'] == 'SPY')\n",
    "if sum(mask)>0:\n",
    "    print(\"Check for control standard:\")\n",
    "    spy_in_df = df[mask]['Identifier 1'].unique()\n",
    "    for spys in spy:\n",
    "        print(f\"{spys} in {filename}: {spys in spy_in_df}\")"
   ]
  },
  {
   "cell_type": "markdown",
   "id": "afb26148",
   "metadata": {},
   "source": [
    "# Plot $H_{2}O$ to check injections"
   ]
  },
  {
   "cell_type": "code",
   "execution_count": null,
   "id": "ae9f58b5",
   "metadata": {},
   "outputs": [],
   "source": [
    "fig, ax = plt.subplots(nrows=4, figsize = (5,5), dpi = 150)\n",
    "ax[0].plot(df['H2O_Mean'], lw = .75)\n",
    "ax[0].set_ylabel('$H_{2}O$ (ppm)')\n",
    "\n",
    "ax[1].plot(df['d(17_16)Mean'], lw = .75)\n",
    "ax[1].set_ylabel('$\\delta^{17}O$ (‰)')\n",
    "\n",
    "ax[2].plot(df['d(18_16)Mean'], lw = .75)\n",
    "ax[2].set_ylabel('$\\delta^{18}O$ (‰)')\n",
    "\n",
    "ax[3].plot(df['d(D_H)Mean'], lw = .75)\n",
    "ax[3].set_ylabel('$\\delta D$ (‰)')\n",
    "ax[3].set_xlabel('injection (#)')"
   ]
  },
  {
   "cell_type": "markdown",
   "id": "540e0ccf",
   "metadata": {},
   "source": [
    "# Compute regression curve for calibration"
   ]
  },
  {
   "cell_type": "code",
   "execution_count": 30,
   "id": "d0e5fb6a",
   "metadata": {},
   "outputs": [],
   "source": [
    "std_d17O_meas = np.array([])\n",
    "std_d17O_true = np.array([])\n",
    "std_d18O_meas = np.array([])\n",
    "std_d18O_true = np.array([])\n",
    "std_dD_meas = np.array([])\n",
    "std_dD_true = np.array([])\n",
    "for std in standards:\n",
    "    mask = (df['Identifier 1'] == std) & (df['Identifier 2'] == 'STD')\n",
    "    # Get positions in table\n",
    "    positions = df[mask]['Analysis'].unique()\n",
    "    buff_d17O = np.array([])\n",
    "    buff_d18O = np.array([])\n",
    "    buff_dD = np.array([])\n",
    "    df_buff = df[mask]\n",
    "    for position in positions:\n",
    "        #print(position)\n",
    "        mask_layer2 = df_buff['Analysis'] == position\n",
    "        buff_d17O = np.append(buff_d17O, df_buff[mask_layer2][d17O_column].iloc[injections_to_keep:].mean())\n",
    "        buff_d18O = np.append(buff_d18O, df_buff[mask_layer2][d18O_column].iloc[injections_to_keep:].mean())\n",
    "        buff_dD = np.append(buff_dD, df_buff[mask_layer2][dD_column].iloc[injections_to_keep:].mean())\n",
    "    std_d17O_meas = np.append(std_d17O_meas, buff_d17O.mean())\n",
    "    std_d17O_true = np.append(std_d17O_true, standard_d17O[std])\n",
    "    std_d18O_meas = np.append(std_d18O_meas, buff_d18O.mean())\n",
    "    std_d18O_true = np.append(std_d18O_true, standard_d18O[std])\n",
    "    std_dD_meas = np.append(std_dD_meas, buff_dD.mean())\n",
    "    std_dD_true = np.append(std_dD_true, standard_dD[std])\n",
    "\n",
    "# ----\n",
    "mdl_d17O = linregress(std_d17O_meas, std_d17O_true)\n",
    "mdl_d18O = linregress(std_d18O_meas, std_d18O_true)\n",
    "mdl_dD = linregress(std_dD_meas, std_dD_true)\n",
    "\n",
    "# Calibrate\n",
    "df_calibrated = df.copy()\n",
    "df_calibrated[d17O_column] = df[d17O_column]*mdl_d17O.slope+mdl_d17O.intercept\n",
    "df_calibrated[d18O_column] = df[d18O_column]*mdl_d18O.slope+mdl_d18O.intercept\n",
    "df_calibrated[dD_column] = df[dD_column]*mdl_dD.slope+mdl_dD.intercept\n",
    "df_calibrated[E17_column] = 1e6*(np.log(df_calibrated[d17O_column]/1000  + 1) - 0.528*np.log(df_calibrated[d18O_column]/1000  + 1))"
   ]
  },
  {
   "cell_type": "markdown",
   "id": "1efef4c2",
   "metadata": {},
   "source": [
    "# Check control standard"
   ]
  },
  {
   "cell_type": "code",
   "execution_count": null,
   "id": "175d51d8",
   "metadata": {},
   "outputs": [],
   "source": [
    "for spys in spy:\n",
    "    print(spys+\": -------------------\")\n",
    "    mask = (df_calibrated['Identifier 1'] == spys) & (df_calibrated['Identifier 2'] == 'SPY')\n",
    "    analyses = df_calibrated[mask]['Analysis'].unique()\n",
    "    buff = np.array([])\n",
    "    print('d17O:-------------------')\n",
    "    for analysis in analyses:\n",
    "        mask = df_calibrated['Analysis'] == analysis\n",
    "        print(f\"{df_calibrated[mask][d17O_column].iloc[injections_to_keep:].mean():.4f}\")\n",
    "        buff = np.append(buff, df_calibrated[mask][d17O_column].iloc[injections_to_keep:].mean())\n",
    "    print(f\"Average: {buff.mean():.4f} ±{buff.std():.4f} \")\n",
    "    \n",
    "    buff = np.array([])\n",
    "    print('d18O:-------------------')\n",
    "    for analysis in analyses:\n",
    "        mask = df_calibrated['Analysis'] == analysis\n",
    "        print(f\"{df_calibrated[mask][d18O_column].iloc[injections_to_keep:].mean():.4f}\")\n",
    "        buff = np.append(buff, df_calibrated[mask][d18O_column].iloc[injections_to_keep:].mean())\n",
    "    print(f\"Average: {buff.mean():.4f} ±{buff.std():.4f} \")\n",
    "    \n",
    "    buff = np.array([])\n",
    "    print('dD:---------------------')\n",
    "    for analysis in analyses:\n",
    "        mask = df_calibrated['Analysis'] == analysis\n",
    "        print(f\"{df_calibrated[mask][dD_column].iloc[injections_to_keep:].mean():.2f}\")\n",
    "        buff = np.append(buff, df_calibrated[mask][dD_column].iloc[injections_to_keep:].mean())\n",
    "    print(f\"Average: {buff.mean():.2f} ±{buff.std():.2f} \")\n",
    "        \n",
    "    buff = np.array([])\n",
    "    print('E17-O:-----------------')\n",
    "    for analysis in analyses:\n",
    "        mask = df_calibrated['Analysis'] == analysis\n",
    "        print(f\"{df_calibrated[mask][E17_column].iloc[injections_to_keep:].mean():.0f}\")\n",
    "        buff = np.append(buff, df_calibrated[mask][E17_column].iloc[injections_to_keep:].mean())\n",
    "    print(f\"Average: {buff.mean():.0f} ±{buff.std():.0f} \")\n",
    "print('-----------------------')"
   ]
  },
  {
   "cell_type": "code",
   "execution_count": null,
   "id": "301e29aa",
   "metadata": {},
   "outputs": [],
   "source": [
    "for std in standards:\n",
    "    print(std+\": -------------------\")\n",
    "    mask = (df_calibrated['Identifier 1'] == std) & (df_calibrated['Identifier 2'] == 'STD')\n",
    "    analyses = df_calibrated[mask]['Analysis'].unique()\n",
    "    buff = np.array([])\n",
    "    print('d17O:-------------------')\n",
    "    for analysis in analyses:\n",
    "        mask = df_calibrated['Analysis'] == analysis\n",
    "        print(f\"{df_calibrated[mask][d17O_column].iloc[injections_to_keep:].mean():.4f}\")\n",
    "        buff = np.append(buff, df_calibrated[mask][d17O_column].iloc[injections_to_keep:].mean())\n",
    "    print(f\"Average: {buff.mean():.4f} ±{buff.std():.4f} \")\n",
    "    \n",
    "    buff = np.array([])\n",
    "    print('d18O:-------------------')\n",
    "    for analysis in analyses:\n",
    "        mask = df_calibrated['Analysis'] == analysis\n",
    "        print(f\"{df_calibrated[mask][d18O_column].iloc[injections_to_keep:].mean():.4f}\")\n",
    "        buff = np.append(buff, df_calibrated[mask][d18O_column].iloc[injections_to_keep:].mean())\n",
    "    print(f\"Average: {buff.mean():.4f} ±{buff.std():.4f} \")\n",
    "    \n",
    "    buff = np.array([])\n",
    "    print('dD:---------------------')\n",
    "    for analysis in analyses:\n",
    "        mask = df_calibrated['Analysis'] == analysis\n",
    "        print(f\"{df_calibrated[mask][dD_column].iloc[injections_to_keep:].mean():.2f}\")\n",
    "        buff = np.append(buff, df_calibrated[mask][dD_column].iloc[injections_to_keep:].mean())\n",
    "    print(f\"Average: {buff.mean():.2f} ±{buff.std():.2f} \")\n",
    "        \n",
    "    buff = np.array([])\n",
    "    print('E17-O:-----------------')\n",
    "    for analysis in analyses:\n",
    "        mask = df_calibrated['Analysis'] == analysis\n",
    "        print(f\"{df_calibrated[mask][E17_column].iloc[injections_to_keep:].mean():.0f}\")\n",
    "        buff = np.append(buff, df_calibrated[mask][E17_column].iloc[injections_to_keep:].mean())\n",
    "    print(f\"Average: {buff.mean():.0f} ±{buff.std():.0f} \")\n",
    "print('-----------------------')"
   ]
  },
  {
   "cell_type": "markdown",
   "id": "b203231e",
   "metadata": {},
   "source": [
    "# Plot results"
   ]
  },
  {
   "cell_type": "code",
   "execution_count": null,
   "id": "1eaa2892",
   "metadata": {},
   "outputs": [],
   "source": [
    "fig, ax = plt.subplots(nrows=4, figsize = (5,8), dpi = 300, sharex = True)\n",
    "\n",
    "dummy_x = 0\n",
    "\n",
    "for sample in df_calibrated[df_calibrated['Identifier 2'] == \"SAMPLE\"]['Identifier 1'].unique():\n",
    "    mask = (df_calibrated['Identifier 1'] == sample)\n",
    "    #print(sample)\n",
    "    #print(df_calibrated[mask][d17O_column].iloc[injections_to_keep:].mean())\n",
    "    ax[0].scatter(dummy_x, \n",
    "                  df_calibrated[mask][d17O_column].iloc[injections_to_keep:].mean(), s = 5, c = 'k')\n",
    "    ax[0].text(dummy_x, \n",
    "                  df_calibrated[mask][d17O_column].iloc[injections_to_keep:].mean(), sample, size = 3)\n",
    "    \n",
    "    ax[1].scatter(dummy_x, \n",
    "                  df_calibrated[mask][d18O_column].iloc[injections_to_keep:].mean(), s = 8, c = 'k')\n",
    "    ax[1].text(dummy_x, \n",
    "                  df_calibrated[mask][d18O_column].iloc[injections_to_keep:].mean(), sample, size = 3)\n",
    "    \n",
    "    ax[2].scatter(dummy_x, \n",
    "                  df_calibrated[mask][dD_column].iloc[injections_to_keep:].mean(), s = 8, c = 'k')\n",
    "    ax[2].text(dummy_x, \n",
    "                  df_calibrated[mask][dD_column].iloc[injections_to_keep:].mean(), sample, size = 3)\n",
    "    \n",
    "    ax[3].scatter(dummy_x, \n",
    "                  df_calibrated[mask][E17_column].iloc[injections_to_keep:].mean(), s = 8, c = 'k')\n",
    "    ax[3].text(dummy_x, \n",
    "                  df_calibrated[mask][E17_column].iloc[injections_to_keep:].mean(), sample, size = 3)\n",
    "    \n",
    "    dummy_x = dummy_x + 1\n",
    "\n",
    "\n",
    "\n",
    "ax[0].set_ylabel('$\\delta^{17}O$ (‰)')\n",
    "ax[1].set_ylabel('$\\delta^{18}O$ (‰)')\n",
    "ax[2].set_ylabel('$\\delta D$ (‰)')\n",
    "ax[3].set_ylabel('$\\Delta^{17}O$ (permeg)')"
   ]
  },
  {
   "cell_type": "markdown",
   "id": "06e280b2",
   "metadata": {},
   "source": [
    "# Print and save data"
   ]
  },
  {
   "cell_type": "code",
   "execution_count": null,
   "id": "977070ef",
   "metadata": {},
   "outputs": [],
   "source": [
    "print(\"d17O\")\n",
    "for sample in df_calibrated[df_calibrated['Identifier 2'] == \"SAMPLE\"]['Identifier 1'].unique():\n",
    "    mask = (df_calibrated['Identifier 1'] == sample)\n",
    "    print(f\"{sample}: {df_calibrated[mask][d17O_column].iloc[injections_to_keep:].mean():.4f} ± {df_calibrated[mask][d17O_column].iloc[injections_to_keep:].std():.4f}\")\n",
    "\n",
    "print(\"----------------\")\n",
    "print(\"d18O\")\n",
    "for sample in df_calibrated[df_calibrated['Identifier 2'] == \"SAMPLE\"]['Identifier 1'].unique():\n",
    "    mask = (df_calibrated['Identifier 1'] == sample)\n",
    "    print(f\"{sample}: {df_calibrated[mask][d18O_column].iloc[injections_to_keep:].mean():.4f} ± {df_calibrated[mask][d18O_column].iloc[injections_to_keep:].std():.4f}\")\n",
    "\n",
    "print(\"----------------\")\n",
    "print(\"dD\")\n",
    "for sample in df_calibrated[df_calibrated['Identifier 2'] == \"SAMPLE\"]['Identifier 1'].unique():\n",
    "    mask = (df_calibrated['Identifier 1'] == sample)\n",
    "    print(f\"{sample}: {df_calibrated[mask][dD_column].iloc[injections_to_keep:].mean():.2f} ± {df_calibrated[mask][dD_column].iloc[injections_to_keep:].std():.2f}\")\n",
    "\n",
    "print(\"----------------\")\n",
    "print(\"E17-O\")\n",
    "for sample in df_calibrated[df_calibrated['Identifier 2'] == \"SAMPLE\"]['Identifier 1'].unique():\n",
    "    mask = (df_calibrated['Identifier 1'] == sample)\n",
    "    print(f\"{sample}: {df_calibrated[mask][E17_column].iloc[injections_to_keep:].mean():.0f} ± {df_calibrated[mask][E17_column].iloc[injections_to_keep:].std():.0f}\")    \n",
    "    "
   ]
  },
  {
   "cell_type": "code",
   "execution_count": null,
   "id": "64d4179c",
   "metadata": {},
   "outputs": [],
   "source": [
    "if save_output:\n",
    "    new_filename = filename[:-4] + \"_calibrated.csv\"\n",
    "    print(\"data saved into: \"+new_filename)"
   ]
  }
 ],
 "metadata": {
  "kernelspec": {
   "display_name": "Python 3 (ipykernel)",
   "language": "python",
   "name": "python3"
  },
  "language_info": {
   "codemirror_mode": {
    "name": "ipython",
    "version": 3
   },
   "file_extension": ".py",
   "mimetype": "text/x-python",
   "name": "python",
   "nbconvert_exporter": "python",
   "pygments_lexer": "ipython3",
   "version": "3.11.5"
  }
 },
 "nbformat": 4,
 "nbformat_minor": 5
}
